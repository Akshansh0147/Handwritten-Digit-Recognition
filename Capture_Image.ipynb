{
 "cells": [
  {
   "cell_type": "code",
   "execution_count": 1,
   "metadata": {},
   "outputs": [],
   "source": [
    "import pyscreenshot as ImageGrab\n",
    "import time"
   ]
  },
  {
   "cell_type": "code",
   "execution_count": null,
   "metadata": {},
   "outputs": [
    {
     "name": "stdout",
     "output_type": "stream",
     "text": [
      "saved....... 60\n",
      "clear screen now and redraw now........\n",
      "saved....... 61\n",
      "clear screen now and redraw now........\n",
      "saved....... 62\n",
      "clear screen now and redraw now........\n",
      "saved....... 63\n",
      "clear screen now and redraw now........\n",
      "saved....... 64\n",
      "clear screen now and redraw now........\n",
      "saved....... 65\n",
      "clear screen now and redraw now........\n",
      "saved....... 66\n",
      "clear screen now and redraw now........\n",
      "saved....... 67\n",
      "clear screen now and redraw now........\n",
      "saved....... 68\n",
      "clear screen now and redraw now........\n",
      "saved....... 69\n",
      "clear screen now and redraw now........\n",
      "saved....... 70\n",
      "clear screen now and redraw now........\n",
      "saved....... 71\n",
      "clear screen now and redraw now........\n",
      "saved....... 72\n",
      "clear screen now and redraw now........\n",
      "saved....... 73\n",
      "clear screen now and redraw now........\n",
      "saved....... 74\n",
      "clear screen now and redraw now........\n",
      "saved....... 75\n",
      "clear screen now and redraw now........\n",
      "saved....... 76\n",
      "clear screen now and redraw now........\n",
      "saved....... 77\n",
      "clear screen now and redraw now........\n",
      "saved....... 78\n",
      "clear screen now and redraw now........\n",
      "saved....... 79\n",
      "clear screen now and redraw now........\n",
      "saved....... 80\n",
      "clear screen now and redraw now........\n",
      "saved....... 81\n",
      "clear screen now and redraw now........\n",
      "saved....... 82\n",
      "clear screen now and redraw now........\n",
      "saved....... 83\n",
      "clear screen now and redraw now........\n",
      "saved....... 84\n",
      "clear screen now and redraw now........\n"
     ]
    }
   ],
   "source": [
    "images_folder = \"captured_images/9/\"\n",
    "for i in range(60,100):\n",
    "    time.sleep(5)\n",
    "    im = ImageGrab.grab(bbox=(90,290,918,925))\n",
    "    print(\"saved.......\",i)\n",
    "    im.save(images_folder+str(i)+'.png')\n",
    "    print('clear screen now and redraw now........')"
   ]
  },
  {
   "cell_type": "code",
   "execution_count": null,
   "metadata": {},
   "outputs": [],
   "source": []
  }
 ],
 "metadata": {
  "kernelspec": {
   "display_name": "Python 3",
   "language": "python",
   "name": "python3"
  },
  "language_info": {
   "codemirror_mode": {
    "name": "ipython",
    "version": 3
   },
   "file_extension": ".py",
   "mimetype": "text/x-python",
   "name": "python",
   "nbconvert_exporter": "python",
   "pygments_lexer": "ipython3",
   "version": "3.8.8"
  }
 },
 "nbformat": 4,
 "nbformat_minor": 4
}
